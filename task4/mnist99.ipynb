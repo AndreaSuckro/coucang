{
 "cells": [
  {
   "cell_type": "markdown",
   "metadata": {},
   "source": [
    "## 4 - Network Structure\n",
    "How many neurons are simulated? \n",
    "\n",
    "How many degrees of freedom (weights) does the network have?"
   ]
  },
  {
   "cell_type": "raw",
   "metadata": {},
   "source": [
    "-- answers missing"
   ]
  },
  {
   "cell_type": "code",
   "execution_count": 3,
   "metadata": {
    "collapsed": false
   },
   "outputs": [],
   "source": [
    "%matplotlib inline\n",
    "from matplotlib import pyplot as plt\n",
    "import numpy as np\n",
    "from numpy.random import choice, random_integers\n",
    "from mnist import MNIST\n",
    "import tensorflow as tf\n",
    "\n",
    "\n",
    "data = MNIST()\n",
    "BATCHSIZE = 100\n",
    "EPOCHS = 201\n",
    "TESTSTEPSIZE = 100"
   ]
  },
  {
   "cell_type": "markdown",
   "metadata": {},
   "source": [
    "## Model"
   ]
  },
  {
   "cell_type": "code",
   "execution_count": 4,
   "metadata": {
    "collapsed": false
   },
   "outputs": [],
   "source": [
    "x = tf.placeholder(tf.float32, (None, 28, 28), name='input')\n",
    "t = tf.placeholder(tf.int64, (None), name='target')\n",
    "\n",
    "w0 = tf.Variable(tf.truncated_normal((6,6,1,6), stddev=0.1), name='kernel')\n",
    "b0 = tf.Variable(tf.ones((6,))/10, name='biases')\n",
    "c0 = tf.nn.conv2d(tf.reshape(x, (-1,28,28,1)), w0, (1,1,1,1), 'SAME', name='convolution')\n",
    "l0 = tf.nn.relu(c0 + b0, name='activation')\n",
    "\n",
    "w1 = tf.Variable(tf.truncated_normal((5,5,6,12), stddev=0.1), name='kernel')\n",
    "b1 = tf.Variable(tf.ones((12,))/10, name='biases')\n",
    "c1 = tf.nn.conv2d(l0, w1, (1,2,2,1), 'SAME', name='convolution')\n",
    "l1 = tf.nn.relu(c1 + b1, name='activation')\n",
    "\n",
    "w2 = tf.Variable(tf.truncated_normal((4,4,12,24), stddev=0.1), name='kernel')\n",
    "b2 = tf.Variable(tf.ones((24,))/10, name='biases')\n",
    "c2 = tf.nn.conv2d(l1, w2, (1,2,2,1), 'SAME', name='convolution')\n",
    "l2 = tf.nn.relu(c2 + b2, name='activation')\n",
    "\n",
    "w3 = tf.Variable(tf.truncated_normal((7*7*24,200), stddev=0.1), name='readout_hidden_weights')\n",
    "b3 = tf.Variable(tf.ones((200,))/10, name='readout_hidden_biases')\n",
    "l3 = tf.nn.relu(tf.matmul(tf.reshape(l2, (-1,7*7*24)), w3) + b3, name='readout_hidden')\n",
    "#l3 = tf.nn.dropout(l3_, 0.75)\n",
    "\n",
    "wo = tf.Variable(tf.truncated_normal((200,10), stddev=0.1), name='weights')\n",
    "bo = tf.Variable(tf.zeros((10,)), name='biases')\n",
    "y = tf.matmul(l3, wo) + bo\n",
    "\n",
    "entropy = tf.reduce_mean(tf.nn.sparse_softmax_cross_entropy_with_logits(y, t), name='entropy')\n",
    "train_step = tf.train.AdamOptimizer(1e-4).minimize(entropy)\n",
    "\n",
    "correct_prediction = tf.equal(tf.argmax(y, 1), t)\n",
    "accuracy = tf.reduce_mean(tf.cast(correct_prediction, tf.float32))"
   ]
  },
  {
   "cell_type": "markdown",
   "metadata": {},
   "source": [
    "## Training"
   ]
  },
  {
   "cell_type": "code",
   "execution_count": 7,
   "metadata": {
    "collapsed": false,
    "scrolled": false
   },
   "outputs": [
    {
     "ename": "AttributeError",
     "evalue": "'AxesSubplot' object has no attribute 'xlim'",
     "output_type": "error",
     "traceback": [
      "\u001b[0;31m---------------------------------------------------------------------------\u001b[0m",
      "\u001b[0;31mAttributeError\u001b[0m                            Traceback (most recent call last)",
      "\u001b[0;32m<ipython-input-7-d87c3ba41918>\u001b[0m in \u001b[0;36m<module>\u001b[0;34m()\u001b[0m\n\u001b[1;32m      8\u001b[0m \u001b[0;34m\u001b[0m\u001b[0m\n\u001b[1;32m      9\u001b[0m \u001b[0max\u001b[0m \u001b[0;34m=\u001b[0m \u001b[0mplt\u001b[0m\u001b[0;34m.\u001b[0m\u001b[0msubplot\u001b[0m\u001b[0;34m(\u001b[0m\u001b[0;36m1\u001b[0m\u001b[0;34m,\u001b[0m\u001b[0;36m1\u001b[0m\u001b[0;34m,\u001b[0m\u001b[0;36m1\u001b[0m\u001b[0;34m)\u001b[0m\u001b[0;34m\u001b[0m\u001b[0m\n\u001b[0;32m---> 10\u001b[0;31m \u001b[0max\u001b[0m\u001b[0;34m.\u001b[0m\u001b[0mxlim\u001b[0m\u001b[0;34m(\u001b[0m\u001b[0;36m0\u001b[0m\u001b[0;34m,\u001b[0m \u001b[0mEPOCHS\u001b[0m\u001b[0;34m)\u001b[0m\u001b[0;34m\u001b[0m\u001b[0m\n\u001b[0m\u001b[1;32m     11\u001b[0m \u001b[0mplt\u001b[0m\u001b[0;34m.\u001b[0m\u001b[0mshow\u001b[0m\u001b[0;34m(\u001b[0m\u001b[0;34m)\u001b[0m\u001b[0;34m\u001b[0m\u001b[0m\n\u001b[1;32m     12\u001b[0m \u001b[0;34m\u001b[0m\u001b[0m\n",
      "\u001b[0;31mAttributeError\u001b[0m: 'AxesSubplot' object has no attribute 'xlim'"
     ]
    },
    {
     "data": {
      "image/png": "[encoded data removed]",
      "text/plain": [
       "<matplotlib.figure.Figure at 0x7f9c042e5470>"
      ]
     },
     "metadata": {},
     "output_type": "display_data"
    }
   ],
   "source": [
    "sess = tf.Session()\n",
    "sess.run(tf.global_variables_initializer())\n",
    "\n",
    "plt.ion()\n",
    "figs, ax = plt.subplots(1, 1)\n",
    "plt.title('Training...')\n",
    "acc = []\n",
    "\n",
    "for i in range(1, EPOCHS + 1):\n",
    "    batch_x, batch_t = data.getTrainingBatch(10)\n",
    "    sess.run(train_step, {x: batch_x, t: batch_t})\n",
    "    if i % 100 == 0:\n",
    "        print(sess.run(accuracy, {x: data.testData, t: data.testLabels}))"
   ]
  }
 ],
 "metadata": {
  "kernelspec": {
   "display_name": "Python 3",
   "language": "python",
   "name": "python3"
  },
  "language_info": {
   "codemirror_mode": {
    "name": "ipython",
    "version": 3
   },
   "file_extension": ".py",
   "mimetype": "text/x-python",
   "name": "python",
   "nbconvert_exporter": "python",
   "pygments_lexer": "ipython3",
   "version": "3.6.0"
  }
 },
 "nbformat": 4,
 "nbformat_minor": 1
}
