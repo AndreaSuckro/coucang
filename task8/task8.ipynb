{
 "cells": [
  {
   "cell_type": "markdown",
   "metadata": {},
   "source": [
    "# DCGAN"
   ]
  },
  {
   "cell_type": "code",
   "execution_count": null,
   "metadata": {
    "collapsed": false
   },
   "outputs": [],
   "source": [
    "from matplotlib import pyplot as plt\n",
    "import numpy as np\n",
    "from numpy.random import choice, random_integers\n",
    "from mnist import MNIST\n",
    "import tensorflow as tf\n",
    "\n",
    "data = MNIST()\n",
    "\n",
    "# Visualize Data\n",
    "plt.ioff()\n",
    "fig = plt.figure('MNIST Data')\n",
    "for i, sample in enumerate(choice(len(data.trainingData), 9, replace=False)):\n",
    "    sbplt = plt.subplot(331+i)\n",
    "    sbplt.axis('off')\n",
    "    sbplt.set_title(data.trainingLabels[sample])\n",
    "    sbplt.imshow(data.trainingData[sample], cmap='gray')\n",
    "fig.canvas.draw()\n",
    "plt.show()"
   ]
  },
  {
   "cell_type": "code",
   "execution_count": null,
   "metadata": {
    "collapsed": false
   },
   "outputs": [],
   "source": [
    "print(data.trainingLabels)\n",
    "print(data.testLabels)\n",
    "\n",
    "X1,Y1,Z1 = np.shape(data.testData)\n",
    "X2,Y2,Z2 = np.shape(data.trainingData)\n",
    "\n",
    "print(X1,Y1,Z1)\n",
    "print(X2,Y2,Z2)\n",
    "\n",
    "\n",
    "allData = np.concatenate((data.testData, data.trainingData))\n",
    "X,Y,Z = np.shape(allData)\n",
    "\n"
   ]
  },
  {
   "cell_type": "code",
   "execution_count": null,
   "metadata": {
    "collapsed": true
   },
   "outputs": [],
   "source": []
  }
 ],
 "metadata": {
  "kernelspec": {
   "display_name": "Python 3",
   "language": "python",
   "name": "python3"
  },
  "language_info": {
   "codemirror_mode": {
    "name": "ipython",
    "version": 3
   },
   "file_extension": ".py",
   "mimetype": "text/x-python",
   "name": "python",
   "nbconvert_exporter": "python",
   "pygments_lexer": "ipython3",
   "version": "3.5.2"
  }
 },
 "nbformat": 4,
 "nbformat_minor": 1
}
